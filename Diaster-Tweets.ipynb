{
 "cells": [
  {
   "cell_type": "code",
   "execution_count": 7,
   "metadata": {},
   "outputs": [
    {
     "name": "stderr",
     "output_type": "stream",
     "text": [
      "/usr/lib/python3/dist-packages/scipy/__init__.py:146: UserWarning: A NumPy version >=1.17.3 and <1.25.0 is required for this version of SciPy (detected version 1.26.3\n",
      "  warnings.warn(f\"A NumPy version >={np_minversion} and <{np_maxversion}\"\n"
     ]
    }
   ],
   "source": [
    "import pandas as pd\n",
    "import numpy as np \n",
    "import matplotlib.pyplot as plt\n",
    "import seaborn as sns"
   ]
  },
  {
   "cell_type": "markdown",
   "metadata": {},
   "source": [
    "### EDA"
   ]
  },
  {
   "cell_type": "code",
   "execution_count": 43,
   "metadata": {},
   "outputs": [],
   "source": [
    "df_train = pd.read_csv(\"data/train.csv\",index_col='id')\n",
    "df_test = pd.read_csv(\"data/test.csv\",index_col='id')\n"
   ]
  },
  {
   "cell_type": "code",
   "execution_count": 44,
   "metadata": {},
   "outputs": [
    {
     "data": {
      "text/html": [
       "<div>\n",
       "<style scoped>\n",
       "    .dataframe tbody tr th:only-of-type {\n",
       "        vertical-align: middle;\n",
       "    }\n",
       "\n",
       "    .dataframe tbody tr th {\n",
       "        vertical-align: top;\n",
       "    }\n",
       "\n",
       "    .dataframe thead th {\n",
       "        text-align: right;\n",
       "    }\n",
       "</style>\n",
       "<table border=\"1\" class=\"dataframe\">\n",
       "  <thead>\n",
       "    <tr style=\"text-align: right;\">\n",
       "      <th></th>\n",
       "      <th>keyword</th>\n",
       "      <th>location</th>\n",
       "      <th>text</th>\n",
       "      <th>target</th>\n",
       "    </tr>\n",
       "    <tr>\n",
       "      <th>id</th>\n",
       "      <th></th>\n",
       "      <th></th>\n",
       "      <th></th>\n",
       "      <th></th>\n",
       "    </tr>\n",
       "  </thead>\n",
       "  <tbody>\n",
       "    <tr>\n",
       "      <th>1</th>\n",
       "      <td>NaN</td>\n",
       "      <td>NaN</td>\n",
       "      <td>Our Deeds are the Reason of this #earthquake M...</td>\n",
       "      <td>1</td>\n",
       "    </tr>\n",
       "    <tr>\n",
       "      <th>4</th>\n",
       "      <td>NaN</td>\n",
       "      <td>NaN</td>\n",
       "      <td>Forest fire near La Ronge Sask. Canada</td>\n",
       "      <td>1</td>\n",
       "    </tr>\n",
       "    <tr>\n",
       "      <th>5</th>\n",
       "      <td>NaN</td>\n",
       "      <td>NaN</td>\n",
       "      <td>All residents asked to 'shelter in place' are ...</td>\n",
       "      <td>1</td>\n",
       "    </tr>\n",
       "    <tr>\n",
       "      <th>6</th>\n",
       "      <td>NaN</td>\n",
       "      <td>NaN</td>\n",
       "      <td>13,000 people receive #wildfires evacuation or...</td>\n",
       "      <td>1</td>\n",
       "    </tr>\n",
       "    <tr>\n",
       "      <th>7</th>\n",
       "      <td>NaN</td>\n",
       "      <td>NaN</td>\n",
       "      <td>Just got sent this photo from Ruby #Alaska as ...</td>\n",
       "      <td>1</td>\n",
       "    </tr>\n",
       "  </tbody>\n",
       "</table>\n",
       "</div>"
      ],
      "text/plain": [
       "   keyword location                                               text  target\n",
       "id                                                                            \n",
       "1      NaN      NaN  Our Deeds are the Reason of this #earthquake M...       1\n",
       "4      NaN      NaN             Forest fire near La Ronge Sask. Canada       1\n",
       "5      NaN      NaN  All residents asked to 'shelter in place' are ...       1\n",
       "6      NaN      NaN  13,000 people receive #wildfires evacuation or...       1\n",
       "7      NaN      NaN  Just got sent this photo from Ruby #Alaska as ...       1"
      ]
     },
     "execution_count": 44,
     "metadata": {},
     "output_type": "execute_result"
    }
   ],
   "source": [
    "df_train.head()"
   ]
  },
  {
   "cell_type": "code",
   "execution_count": 23,
   "metadata": {},
   "outputs": [
    {
     "data": {
      "text/plain": [
       "<seaborn.axisgrid.FacetGrid at 0x7f47ae77f550>"
      ]
     },
     "execution_count": 23,
     "metadata": {},
     "output_type": "execute_result"
    },
    {
     "data": {
      "image/png": "[encoded data removed]",
      "text/plain": [
       "<Figure size 402.375x360 with 1 Axes>"
      ]
     },
     "metadata": {
      "needs_background": "light"
     },
     "output_type": "display_data"
    }
   ],
   "source": [
    "sns.displot(data=df_train, x='target', hue='target')"
   ]
  },
  {
   "cell_type": "code",
   "execution_count": 45,
   "metadata": {},
   "outputs": [
    {
     "data": {
      "text/plain": [
       "<AxesSubplot:>"
      ]
     },
     "execution_count": 45,
     "metadata": {},
     "output_type": "execute_result"
    },
    {
     "data": {
      "image/png": "[encoded data removed]",
      "text/plain": [
       "<Figure size 432x288 with 1 Axes>"
      ]
     },
     "metadata": {
      "needs_background": "light"
     },
     "output_type": "display_data"
    }
   ],
   "source": [
    "df_train['length'] =  df_train['text'].apply(lambda x: len(x.split())).values\n",
    "df_train['length'].hist()"
   ]
  },
  {
   "cell_type": "markdown",
   "metadata": {},
   "source": [
    "### Data Cleaning"
   ]
  },
  {
   "cell_type": "code",
   "execution_count": 46,
   "metadata": {},
   "outputs": [
    {
     "name": "stderr",
     "output_type": "stream",
     "text": [
      "[nltk_data] Downloading package punkt to /home/tkindvall/nltk_data...\n",
      "[nltk_data]   Package punkt is already up-to-date!\n",
      "[nltk_data] Downloading package stopwords to\n",
      "[nltk_data]     /home/tkindvall/nltk_data...\n",
      "[nltk_data]   Package stopwords is already up-to-date!\n"
     ]
    }
   ],
   "source": [
    "import string, re\n",
    "import nltk\n",
    "nltk.download('punkt')\n",
    "nltk.download('stopwords')\n",
    "from nltk.tokenize import word_tokenize\n",
    "from nltk.corpus import stopwords"
   ]
  },
  {
   "cell_type": "code",
   "execution_count": 60,
   "metadata": {},
   "outputs": [],
   "source": [
    "def clean_text(t):\n",
    "    t  = \"\".join([char for char in t if char not in string.punctuation])\n",
    "    t = re.sub('[0-9]+', '', t)\n",
    "    \n",
    "    t = t.lower() # lowercase\n",
    "    \n",
    "    t = t.replace(r\"\\#\",\"\",True) # replaces hashtags\n",
    "    t = t.replace(r\"http\\S+\",\"URL\", True )  # remove URL addresses\n",
    "    t = t.replace(r\"@\",\"\",  True )\n",
    "    t = t.replace(\"\\s{2,}\", \" \", True ) # remove multiple contiguous spaces\n",
    "    return t\n"
   ]
  },
  {
   "cell_type": "code",
   "execution_count": 61,
   "metadata": {},
   "outputs": [
    {
     "data": {
      "text/html": [
       "<div>\n",
       "<style scoped>\n",
       "    .dataframe tbody tr th:only-of-type {\n",
       "        vertical-align: middle;\n",
       "    }\n",
       "\n",
       "    .dataframe tbody tr th {\n",
       "        vertical-align: top;\n",
       "    }\n",
       "\n",
       "    .dataframe thead th {\n",
       "        text-align: right;\n",
       "    }\n",
       "</style>\n",
       "<table border=\"1\" class=\"dataframe\">\n",
       "  <thead>\n",
       "    <tr style=\"text-align: right;\">\n",
       "      <th></th>\n",
       "      <th>keyword</th>\n",
       "      <th>location</th>\n",
       "      <th>text</th>\n",
       "      <th>target</th>\n",
       "      <th>length</th>\n",
       "    </tr>\n",
       "    <tr>\n",
       "      <th>id</th>\n",
       "      <th></th>\n",
       "      <th></th>\n",
       "      <th></th>\n",
       "      <th></th>\n",
       "      <th></th>\n",
       "    </tr>\n",
       "  </thead>\n",
       "  <tbody>\n",
       "    <tr>\n",
       "      <th>1</th>\n",
       "      <td>NaN</td>\n",
       "      <td>NaN</td>\n",
       "      <td>our deeds are the reason of this earthquake ma...</td>\n",
       "      <td>1</td>\n",
       "      <td>13</td>\n",
       "    </tr>\n",
       "    <tr>\n",
       "      <th>4</th>\n",
       "      <td>NaN</td>\n",
       "      <td>NaN</td>\n",
       "      <td>forest fire near la ronge sask canada</td>\n",
       "      <td>1</td>\n",
       "      <td>7</td>\n",
       "    </tr>\n",
       "    <tr>\n",
       "      <th>5</th>\n",
       "      <td>NaN</td>\n",
       "      <td>NaN</td>\n",
       "      <td>all residents asked to shelter in place are be...</td>\n",
       "      <td>1</td>\n",
       "      <td>22</td>\n",
       "    </tr>\n",
       "    <tr>\n",
       "      <th>6</th>\n",
       "      <td>NaN</td>\n",
       "      <td>NaN</td>\n",
       "      <td>people receive wildfires evacuation orders in...</td>\n",
       "      <td>1</td>\n",
       "      <td>8</td>\n",
       "    </tr>\n",
       "    <tr>\n",
       "      <th>7</th>\n",
       "      <td>NaN</td>\n",
       "      <td>NaN</td>\n",
       "      <td>just got sent this photo from ruby alaska as s...</td>\n",
       "      <td>1</td>\n",
       "      <td>16</td>\n",
       "    </tr>\n",
       "  </tbody>\n",
       "</table>\n",
       "</div>"
      ],
      "text/plain": [
       "   keyword location                                               text  \\\n",
       "id                                                                       \n",
       "1      NaN      NaN  our deeds are the reason of this earthquake ma...   \n",
       "4      NaN      NaN              forest fire near la ronge sask canada   \n",
       "5      NaN      NaN  all residents asked to shelter in place are be...   \n",
       "6      NaN      NaN   people receive wildfires evacuation orders in...   \n",
       "7      NaN      NaN  just got sent this photo from ruby alaska as s...   \n",
       "\n",
       "    target  length  \n",
       "id                  \n",
       "1        1      13  \n",
       "4        1       7  \n",
       "5        1      22  \n",
       "6        1       8  \n",
       "7        1      16  "
      ]
     },
     "execution_count": 61,
     "metadata": {},
     "output_type": "execute_result"
    }
   ],
   "source": [
    "df_train['text'] = df_train['text'].apply(lambda t: clean_text(t))\n",
    "df_test['text'] = df_test['text'].apply(lambda t: clean_text(t))\n",
    " \n",
    "df_train_clean.head()"
   ]
  },
  {
   "cell_type": "markdown",
   "metadata": {},
   "source": [
    "### Model Architecture\n",
    "#### GRU"
   ]
  },
  {
   "cell_type": "code",
   "execution_count": 86,
   "metadata": {},
   "outputs": [],
   "source": [
    "import tensorflow as tf\n",
    "import tensorflow_hub as hub\n",
    "import tensorflow_text \n",
    "from tensorflow.keras.preprocessing import text, sequence \n",
    "from tensorflow.keras.layers import Dropout\n",
    "from tensorflow.keras.metrics import Recall\n",
    "from tensorflow.keras.models import Sequential\n",
    "from tensorflow.keras.layers import LSTM, GRU, Bidirectional, Dense, Embedding, Dropout\n",
    "from tensorflow.keras.layers import TextVectorization\n",
    "from keras.callbacks import EarlyStopping, ReduceLROnPlateau\n",
    " \n",
    "from sklearn.model_selection import train_test_split\n",
    "from sklearn.utils.class_weight import compute_class_weight"
   ]
  },
  {
   "cell_type": "code",
   "execution_count": 66,
   "metadata": {},
   "outputs": [],
   "source": [
    "xtrain, xtest, ytrain, ytest = train_test_split(\n",
    "    df_train['text'].values,\n",
    "    df_train['target'].values,\n",
    "    shuffle=True,\n",
    "    test_size=0.2)"
   ]
  },
  {
   "cell_type": "code",
   "execution_count": 135,
   "metadata": {},
   "outputs": [],
   "source": [
    "max_text_len = max(df_train['text'].apply(lambda x: len(x.split())).values) # we know this from the EDA\n",
    "max_words = 50000\n",
    "tokenizer = text.Tokenizer(num_words = max_words)\n",
    "\n",
    "tokenizer.fit_on_texts(xtrain) #fit tokens on training data\n",
    "\n",
    "xtrain_seq = tokenizer.texts_to_sequences(xtrain)\n",
    "xtest_seq = tokenizer.texts_to_sequences(xtest)"
   ]
  },
  {
   "cell_type": "code",
   "execution_count": 136,
   "metadata": {},
   "outputs": [
    {
     "name": "stdout",
     "output_type": "stream",
     "text": [
      "text example: mourning notices for stabbing arson victims stir û÷politics of griefûª in israel httptcoqldgjm\n",
      "sequence of indices(before padding): [2352, 1744, 9, 2353, 576, 924, 2354, 2355, 5, 2356, 3, 925, 5715]\n",
      "sequence of indices(after padding): [   0    0    0    0    0    0    0    0    0    0    0    0    0    0\n",
      "    0    0    0    0 2352 1744    9 2353  576  924 2354 2355    5 2356\n",
      "    3  925 5715]\n"
     ]
    }
   ],
   "source": [
    "xtrain_pad = sequence.pad_sequences(xtrain_seq, maxlen=max_text_len)\n",
    "xtest_pad = sequence.pad_sequences(xtest_seq, maxlen=max_text_len)\n",
    "word_index = tokenizer.word_index\n",
    " \n",
    "print('text example:', xtrain[0])\n",
    "print('sequence of indices(before padding):', xtrain_seq[0])\n",
    "print('sequence of indices(after padding):', xtrain_pad[0])"
   ]
  },
  {
   "cell_type": "code",
   "execution_count": 124,
   "metadata": {},
   "outputs": [
    {
     "name": "stderr",
     "output_type": "stream",
     "text": [
      "348795.77s - pydevd: Sending message related to process being replaced timed-out after 5 seconds\n"
     ]
    },
    {
     "name": "stdout",
     "output_type": "stream",
     "text": [
      "Archive:  glove.6B.zip\n",
      "replace glove.6B.50d.txt? [y]es, [n]o, [A]ll, [N]one, [r]ename: ^C\n"
     ]
    }
   ],
   "source": [
    "#https://nlp.stanford.edu/projects/glove/\n",
    "#!wget https://nlp.stanford.edu/data/glove.6B.zip\n",
    "!unzip g*zip"
   ]
  },
  {
   "cell_type": "code",
   "execution_count": 137,
   "metadata": {},
   "outputs": [
    {
     "name": "stdout",
     "output_type": "stream",
     "text": [
      "Size of vocabulary in GloVe: 400000\n",
      "CPU times: user 1min 26s, sys: 25.5 s, total: 1min 52s\n",
      "Wall time: 1min 51s\n"
     ]
    }
   ],
   "source": [
    "%%time\n",
    "embedding_vectors = {}\n",
    "with open('glove.6B.300d.txt','r',encoding='utf-8') as file: #glove.42B.300d.txt\n",
    "    for row in file:\n",
    "        values = row.split(' ')\n",
    "        word = values[0]\n",
    "        weights = np.asarray([float(val) for val in values[1:]])\n",
    "        embedding_vectors[word] = weights\n",
    "print(f\"Size of vocabulary in GloVe: {len(embedding_vectors)}\")"
   ]
  },
  {
   "cell_type": "code",
   "execution_count": 138,
   "metadata": {},
   "outputs": [
    {
     "name": "stdout",
     "output_type": "stream",
     "text": [
      "Some out of valubulary words: ['\\x89û', '\\x89ûò', 'prebreak', 'nowplaying', 're\\x89û']\n",
      "7969 out of 50000 words were OOV.\n"
     ]
    }
   ],
   "source": [
    "emb_dim = 300\n",
    "vocab_len = max_words if max_words is not None else len(word_index)+1\n",
    "embedding_matrix = np.zeros((vocab_len, emb_dim))\n",
    "oov_count = 0\n",
    "oov_words = []\n",
    "for word, idx in word_index.items():\n",
    "    if idx < vocab_len:\n",
    "        embedding_vector = embedding_vectors.get(word)\n",
    "        if embedding_vector is not None:\n",
    "            embedding_matrix[idx] = embedding_vector\n",
    "        else:\n",
    "            oov_count += 1\n",
    "            oov_words.append(word)\n",
    "#print some of the out of vocabulary words\n",
    "print(f'Some out of valubulary words: {oov_words[0:5]}')\n",
    "print(f'{oov_count} out of {vocab_len} words were OOV.')"
   ]
  },
  {
   "cell_type": "code",
   "execution_count": 139,
   "metadata": {},
   "outputs": [],
   "source": [
    "earlystopper = EarlyStopping(monitor='val_loss', patience=2, verbose=1, restore_best_weights=True)\n",
    "reducel = ReduceLROnPlateau(monitor='val_loss', patience=1, verbose=1, factor=0.1)\n",
    "                              \n",
    "                              \n",
    "callbacks_list = [reducel, earlystopper]"
   ]
  },
  {
   "cell_type": "code",
   "execution_count": 140,
   "metadata": {},
   "outputs": [],
   "source": [
    "def plot_model_acc(model_history):\n",
    "    acc = model_history.history['accuracy']\n",
    "    val_acc = model_history.history['val_accuracy']\n",
    "    loss = model_history.history['loss']\n",
    "    val_loss = model_history.history['val_loss']\n",
    "\n",
    "    epochs = range(1, len(acc) + 1)\n",
    "\n",
    "    plt.plot(epochs, acc, 'bo', label='Training Accuracy')\n",
    "    plt.plot(epochs, val_acc, 'b', label='Validation Accuracy')\n",
    "    plt.title('Training and Validation Accuracy')\n",
    "    plt.legend()\n",
    "    plt.figure()\n",
    "\n",
    "    plt.plot(epochs, loss, 'bo', label='Training loss')\n",
    "    plt.plot(epochs, val_loss, 'b', label='Validation loss')\n",
    "    plt.title('Training and Validation loss')\n",
    "    plt.legend()\n",
    "    plt.figure()"
   ]
  },
  {
   "cell_type": "code",
   "execution_count": 141,
   "metadata": {},
   "outputs": [
    {
     "name": "stdout",
     "output_type": "stream",
     "text": [
      "Model: \"model_lstm\"\n",
      "_________________________________________________________________\n",
      " Layer (type)                Output Shape              Param #   \n",
      "=================================================================\n",
      " embedding_9 (Embedding)     (None, None, 300)         15000000  \n",
      "                                                                 \n",
      " lstm_5 (LSTM)               (None, 64)                93440     \n",
      "                                                                 \n",
      " dense_23 (Dense)            (None, 128)               8320      \n",
      "                                                                 \n",
      " batch_normalization_3 (Bat  (None, 128)               512       \n",
      " chNormalization)                                                \n",
      "                                                                 \n",
      " dropout_7 (Dropout)         (None, 128)               0         \n",
      "                                                                 \n",
      " dense_24 (Dense)            (None, 256)               33024     \n",
      "                                                                 \n",
      " dense_25 (Dense)            (None, 128)               32896     \n",
      "                                                                 \n",
      " dense_26 (Dense)            (None, 64)                8256      \n",
      "                                                                 \n",
      " dense_27 (Dense)            (None, 1)                 65        \n",
      "                                                                 \n",
      "=================================================================\n",
      "Total params: 15176513 (57.89 MB)\n",
      "Trainable params: 176257 (688.50 KB)\n",
      "Non-trainable params: 15000256 (57.22 MB)\n",
      "_________________________________________________________________\n"
     ]
    }
   ],
   "source": [
    "model_lstm = Sequential(name='model_lstm')\n",
    "model_lstm.add(Embedding(vocab_len, emb_dim, trainable = False, weights=[embedding_matrix]))\n",
    "#model_lstm.add(Embedding(vocab_len, emb_dim, trainable = True))\n",
    "model_lstm.add(LSTM(64, activation='tanh', return_sequences=False))\n",
    "model_lstm.add(Dense(128, activation='relu'))\n",
    "model_lstm.add(tf.keras.layers.BatchNormalization())\n",
    "model_lstm.add(Dropout(0.2)) # Adding Dropout layer with rate of 0.2\n",
    "model_lstm.add(Dense(256, activation='relu'))\n",
    "model_lstm.add(Dense(128, activation='relu'))\n",
    "model_lstm.add(Dense(64, activation='relu'))\n",
    "model_lstm.add(Dense(1, activation='sigmoid'))\n",
    "model_lstm.compile(loss='binary_crossentropy', optimizer='adam', metrics=['accuracy',tf.keras.metrics.Recall(), tf.keras.metrics.AUC()])\n",
    "model_lstm.summary()"
   ]
  },
  {
   "cell_type": "code",
   "execution_count": 142,
   "metadata": {},
   "outputs": [
    {
     "name": "stdout",
     "output_type": "stream",
     "text": [
      "Epoch 1/20\n",
      "191/191 [==============================] - 15s 41ms/step - loss: 0.5001 - accuracy: 0.7700 - recall_4: 0.6563 - auc_4: 0.8246 - val_loss: 0.5393 - val_accuracy: 0.7814 - val_recall_4: 0.7022 - val_auc_4: 0.8524 - lr: 0.0010\n",
      "Epoch 2/20\n",
      "191/191 [==============================] - 6s 31ms/step - loss: 0.4155 - accuracy: 0.8172 - recall_4: 0.7136 - auc_4: 0.8819 - val_loss: 0.4920 - val_accuracy: 0.7741 - val_recall_4: 0.5078 - val_auc_4: 0.8520 - lr: 0.0010\n",
      "Epoch 3/20\n",
      "191/191 [==============================] - 6s 29ms/step - loss: 0.3770 - accuracy: 0.8365 - recall_4: 0.7391 - auc_4: 0.9023 - val_loss: 0.4778 - val_accuracy: 0.7951 - val_recall_4: 0.6364 - val_auc_4: 0.8533 - lr: 0.0010\n",
      "Epoch 4/20\n",
      "191/191 [==============================] - ETA: 0s - loss: 0.3470 - accuracy: 0.8530 - recall_4: 0.7710 - auc_4: 0.9182\n",
      "Epoch 4: ReduceLROnPlateau reducing learning rate to 0.00010000000474974513.\n",
      "191/191 [==============================] - 6s 31ms/step - loss: 0.3470 - accuracy: 0.8530 - recall_4: 0.7710 - auc_4: 0.9182 - val_loss: 0.4862 - val_accuracy: 0.7945 - val_recall_4: 0.6944 - val_auc_4: 0.8516 - lr: 0.0010\n",
      "Epoch 5/20\n",
      "189/191 [============================>.] - ETA: 0s - loss: 0.2710 - accuracy: 0.8924 - recall_4: 0.8337 - auc_4: 0.9519\n",
      "Epoch 5: ReduceLROnPlateau reducing learning rate to 1.0000000474974514e-05.\n",
      "Restoring model weights from the end of the best epoch: 3.\n",
      "191/191 [==============================] - 6s 33ms/step - loss: 0.2708 - accuracy: 0.8924 - recall_4: 0.8333 - auc_4: 0.9521 - val_loss: 0.5299 - val_accuracy: 0.7886 - val_recall_4: 0.6865 - val_auc_4: 0.8458 - lr: 1.0000e-04\n",
      "Epoch 5: early stopping\n",
      "CPU times: user 1min 41s, sys: 37.6 s, total: 2min 19s\n",
      "Wall time: 39.5 s\n"
     ]
    }
   ],
   "source": [
    "%%time\n",
    "batch_size = 32\n",
    "epochs  = 20\n",
    "history_lstm = model_lstm.fit(xtrain_pad,\n",
    "    np.asarray(ytrain),\n",
    "    validation_data=(xtest_pad, np.asarray(ytest)),\n",
    "    batch_size = batch_size,\n",
    "    epochs = epochs,\n",
    "    callbacks = callbacks_list)"
   ]
  },
  {
   "cell_type": "code",
   "execution_count": 143,
   "metadata": {},
   "outputs": [
    {
     "data": {
      "image/png": "[encoded data removed]",
      "text/plain": [
       "<Figure size 432x288 with 1 Axes>"
      ]
     },
     "metadata": {
      "needs_background": "light"
     },
     "output_type": "display_data"
    },
    {
     "data": {
      "image/png": "[encoded data removed]",
      "text/plain": [
       "<Figure size 432x288 with 1 Axes>"
      ]
     },
     "metadata": {
      "needs_background": "light"
     },
     "output_type": "display_data"
    },
    {
     "data": {
      "text/plain": [
       "<Figure size 432x288 with 0 Axes>"
      ]
     },
     "metadata": {},
     "output_type": "display_data"
    }
   ],
   "source": [
    "plot_model_acc(history_lstm)"
   ]
  },
  {
   "cell_type": "code",
   "execution_count": 144,
   "metadata": {},
   "outputs": [
    {
     "name": "stdout",
     "output_type": "stream",
     "text": [
      "Model: \"model_gru\"\n",
      "_________________________________________________________________\n",
      " Layer (type)                Output Shape              Param #   \n",
      "=================================================================\n",
      " embedding_10 (Embedding)    (None, None, 300)         15000000  \n",
      "                                                                 \n",
      " gru_3 (GRU)                 (None, 128)               165120    \n",
      "                                                                 \n",
      " dropout_8 (Dropout)         (None, 128)               0         \n",
      "                                                                 \n",
      " dense_28 (Dense)            (None, 1)                 129       \n",
      "                                                                 \n",
      "=================================================================\n",
      "Total params: 15165249 (57.85 MB)\n",
      "Trainable params: 165249 (645.50 KB)\n",
      "Non-trainable params: 15000000 (57.22 MB)\n",
      "_________________________________________________________________\n"
     ]
    }
   ],
   "source": [
    "emb_dim = embedding_matrix.shape[1]\n",
    "model_gru = Sequential(name='model_gru')\n",
    "model_gru.add(Embedding(vocab_len, emb_dim, trainable = False, weights=[embedding_matrix]))\n",
    "model_gru.add(GRU(128, return_sequences=False))\n",
    "model_gru.add(Dropout(0.5))\n",
    "model_gru.add(Dense(1, activation = 'sigmoid'))\n",
    "model_gru.compile(loss='binary_crossentropy', optimizer='adam', metrics=['accuracy'])\n",
    "model_gru.summary()"
   ]
  },
  {
   "cell_type": "code",
   "execution_count": 145,
   "metadata": {},
   "outputs": [
    {
     "name": "stdout",
     "output_type": "stream",
     "text": [
      "Epoch 1/20\n",
      "191/191 [==============================] - 14s 54ms/step - loss: 0.5035 - accuracy: 0.7530 - val_loss: 0.4549 - val_accuracy: 0.7984 - lr: 0.0010\n",
      "Epoch 2/20\n",
      "191/191 [==============================] - ETA: 0s - loss: 0.4106 - accuracy: 0.8246\n",
      "Epoch 2: ReduceLROnPlateau reducing learning rate to 0.00010000000474974513.\n",
      "191/191 [==============================] - 10s 54ms/step - loss: 0.4106 - accuracy: 0.8246 - val_loss: 0.4691 - val_accuracy: 0.8024 - lr: 0.0010\n",
      "Epoch 3/20\n",
      "191/191 [==============================] - 8s 41ms/step - loss: 0.3620 - accuracy: 0.8491 - val_loss: 0.4472 - val_accuracy: 0.8043 - lr: 1.0000e-04\n",
      "Epoch 4/20\n",
      "191/191 [==============================] - ETA: 0s - loss: 0.3589 - accuracy: 0.8484\n",
      "Epoch 4: ReduceLROnPlateau reducing learning rate to 1.0000000474974514e-05.\n",
      "191/191 [==============================] - 8s 39ms/step - loss: 0.3589 - accuracy: 0.8484 - val_loss: 0.4498 - val_accuracy: 0.8017 - lr: 1.0000e-04\n",
      "Epoch 5/20\n",
      "191/191 [==============================] - ETA: 0s - loss: 0.3527 - accuracy: 0.8498\n",
      "Epoch 5: ReduceLROnPlateau reducing learning rate to 1.0000000656873453e-06.\n",
      "Restoring model weights from the end of the best epoch: 3.\n",
      "191/191 [==============================] - 8s 44ms/step - loss: 0.3527 - accuracy: 0.8498 - val_loss: 0.4498 - val_accuracy: 0.8024 - lr: 1.0000e-05\n",
      "Epoch 5: early stopping\n"
     ]
    },
    {
     "data": {
      "image/png": "[encoded data removed]",
      "text/plain": [
       "<Figure size 432x288 with 1 Axes>"
      ]
     },
     "metadata": {
      "needs_background": "light"
     },
     "output_type": "display_data"
    },
    {
     "data": {
      "image/png": "[encoded data removed]",
      "text/plain": [
       "<Figure size 432x288 with 1 Axes>"
      ]
     },
     "metadata": {
      "needs_background": "light"
     },
     "output_type": "display_data"
    },
    {
     "data": {
      "text/plain": [
       "<Figure size 432x288 with 0 Axes>"
      ]
     },
     "metadata": {},
     "output_type": "display_data"
    }
   ],
   "source": [
    "batch_size = 32\n",
    "epochs  = 20\n",
    "history_gru = model_gru.fit(xtrain_pad,\n",
    "                         np.asarray(ytrain),\n",
    "                         validation_data=(xtest_pad, np.asarray(ytest)),\n",
    "                         batch_size = batch_size,\n",
    "                         epochs = epochs,\n",
    "                         callbacks = callbacks_list)\n",
    "\n",
    "plot_model_acc(history_gru)"
   ]
  },
  {
   "cell_type": "code",
   "execution_count": 156,
   "metadata": {},
   "outputs": [
    {
     "name": "stdout",
     "output_type": "stream",
     "text": [
      "102/102 [==============================] - 2s 15ms/step\n",
      "Index(['keyword', 'location', 'text'], dtype='object')\n"
     ]
    }
   ],
   "source": [
    "X_test= df_test['text'].values\n",
    "X_test_seq = tokenizer.texts_to_sequences(X_test)\n",
    "X_test_pad = sequence.pad_sequences(X_test_seq, maxlen=max_text_len)\n",
    "predictions_prob = model_gru.predict(X_test_pad)\n",
    "predictions = tf.round(predictions_prob)\n",
    "#print(predictions)\n",
    "\n",
    "print(df_test.columns)\n",
    "df_out = pd.DataFrame()\n",
    "df_out.index = df_test.index\n",
    "df_out['target'] = predictions\n",
    "df_out.to_csv('submission.csv')\n"
   ]
  }
 ],
 "metadata": {
  "kernelspec": {
   "display_name": "Python 3",
   "language": "python",
   "name": "python3"
  },
  "language_info": {
   "codemirror_mode": {
    "name": "ipython",
    "version": 3
   },
   "file_extension": ".py",
   "mimetype": "text/x-python",
   "name": "python",
   "nbconvert_exporter": "python",
   "pygments_lexer": "ipython3",
   "version": "3.10.12"
  }
 },
 "nbformat": 4,
 "nbformat_minor": 2
}
