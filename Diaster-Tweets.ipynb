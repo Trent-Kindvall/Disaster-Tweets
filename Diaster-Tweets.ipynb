{
 "cells": [
  {
   "cell_type": "code",
   "execution_count": 1,
   "metadata": {},
   "outputs": [
    {
     "name": "stderr",
     "output_type": "stream",
     "text": [
      "/usr/lib/python3/dist-packages/scipy/__init__.py:146: UserWarning: A NumPy version >=1.17.3 and <1.25.0 is required for this version of SciPy (detected version 1.26.3\n",
      "  warnings.warn(f\"A NumPy version >={np_minversion} and <{np_maxversion}\"\n"
     ]
    }
   ],
   "source": [
    "import pandas as pd\n",
    "import numpy as np \n",
    "import matplotlib.pyplot as plt\n",
    "import seaborn as sns"
   ]
  },
  {
   "cell_type": "markdown",
   "metadata": {},
   "source": [
    "### EDA"
   ]
  },
  {
   "cell_type": "code",
   "execution_count": 2,
   "metadata": {},
   "outputs": [],
   "source": [
    "df_train = pd.read_csv(\"data/train.csv\",index_col='id')\n",
    "df_test = pd.read_csv(\"data/test.csv\",index_col='id')\n"
   ]
  },
  {
   "cell_type": "code",
   "execution_count": 3,
   "metadata": {},
   "outputs": [
    {
     "data": {
      "text/html": [
       "<div>\n",
       "<style scoped>\n",
       "    .dataframe tbody tr th:only-of-type {\n",
       "        vertical-align: middle;\n",
       "    }\n",
       "\n",
       "    .dataframe tbody tr th {\n",
       "        vertical-align: top;\n",
       "    }\n",
       "\n",
       "    .dataframe thead th {\n",
       "        text-align: right;\n",
       "    }\n",
       "</style>\n",
       "<table border=\"1\" class=\"dataframe\">\n",
       "  <thead>\n",
       "    <tr style=\"text-align: right;\">\n",
       "      <th></th>\n",
       "      <th>keyword</th>\n",
       "      <th>location</th>\n",
       "      <th>text</th>\n",
       "      <th>target</th>\n",
       "    </tr>\n",
       "    <tr>\n",
       "      <th>id</th>\n",
       "      <th></th>\n",
       "      <th></th>\n",
       "      <th></th>\n",
       "      <th></th>\n",
       "    </tr>\n",
       "  </thead>\n",
       "  <tbody>\n",
       "    <tr>\n",
       "      <th>1</th>\n",
       "      <td>NaN</td>\n",
       "      <td>NaN</td>\n",
       "      <td>Our Deeds are the Reason of this #earthquake M...</td>\n",
       "      <td>1</td>\n",
       "    </tr>\n",
       "    <tr>\n",
       "      <th>4</th>\n",
       "      <td>NaN</td>\n",
       "      <td>NaN</td>\n",
       "      <td>Forest fire near La Ronge Sask. Canada</td>\n",
       "      <td>1</td>\n",
       "    </tr>\n",
       "    <tr>\n",
       "      <th>5</th>\n",
       "      <td>NaN</td>\n",
       "      <td>NaN</td>\n",
       "      <td>All residents asked to 'shelter in place' are ...</td>\n",
       "      <td>1</td>\n",
       "    </tr>\n",
       "    <tr>\n",
       "      <th>6</th>\n",
       "      <td>NaN</td>\n",
       "      <td>NaN</td>\n",
       "      <td>13,000 people receive #wildfires evacuation or...</td>\n",
       "      <td>1</td>\n",
       "    </tr>\n",
       "    <tr>\n",
       "      <th>7</th>\n",
       "      <td>NaN</td>\n",
       "      <td>NaN</td>\n",
       "      <td>Just got sent this photo from Ruby #Alaska as ...</td>\n",
       "      <td>1</td>\n",
       "    </tr>\n",
       "  </tbody>\n",
       "</table>\n",
       "</div>"
      ],
      "text/plain": [
       "   keyword location                                               text  target\n",
       "id                                                                            \n",
       "1      NaN      NaN  Our Deeds are the Reason of this #earthquake M...       1\n",
       "4      NaN      NaN             Forest fire near La Ronge Sask. Canada       1\n",
       "5      NaN      NaN  All residents asked to 'shelter in place' are ...       1\n",
       "6      NaN      NaN  13,000 people receive #wildfires evacuation or...       1\n",
       "7      NaN      NaN  Just got sent this photo from Ruby #Alaska as ...       1"
      ]
     },
     "execution_count": 3,
     "metadata": {},
     "output_type": "execute_result"
    }
   ],
   "source": [
    "df_train.head()"
   ]
  },
  {
   "cell_type": "code",
   "execution_count": 4,
   "metadata": {},
   "outputs": [
    {
     "data": {
      "text/plain": [
       "<seaborn.axisgrid.FacetGrid at 0x7f8865821ba0>"
      ]
     },
     "execution_count": 4,
     "metadata": {},
     "output_type": "execute_result"
    },
    {
     "data": {
      "image/png": "[encoded data removed]",
      "text/plain": [
       "<Figure size 402.375x360 with 1 Axes>"
      ]
     },
     "metadata": {
      "needs_background": "light"
     },
     "output_type": "display_data"
    }
   ],
   "source": [
    "sns.displot(data=df_train, x='target', hue='target')"
   ]
  },
  {
   "cell_type": "code",
   "execution_count": 5,
   "metadata": {},
   "outputs": [
    {
     "data": {
      "text/plain": [
       "<AxesSubplot:>"
      ]
     },
     "execution_count": 5,
     "metadata": {},
     "output_type": "execute_result"
    },
    {
     "data": {
      "image/png": "[encoded data removed]",
      "text/plain": [
       "<Figure size 432x288 with 1 Axes>"
      ]
     },
     "metadata": {
      "needs_background": "light"
     },
     "output_type": "display_data"
    }
   ],
   "source": [
    "df_train['length'] =  df_train['text'].apply(lambda x: len(x.split())).values\n",
    "df_train['length'].hist()"
   ]
  },
  {
   "cell_type": "markdown",
   "metadata": {},
   "source": [
    "### Data Cleaning"
   ]
  },
  {
   "cell_type": "code",
   "execution_count": 9,
   "metadata": {},
   "outputs": [
    {
     "name": "stderr",
     "output_type": "stream",
     "text": [
      "[nltk_data] Downloading package punkt to /home/tkindvall/nltk_data...\n",
      "[nltk_data]   Package punkt is already up-to-date!\n",
      "[nltk_data] Downloading package stopwords to\n",
      "[nltk_data]     /home/tkindvall/nltk_data...\n",
      "[nltk_data]   Package stopwords is already up-to-date!\n"
     ]
    }
   ],
   "source": [
    "import string, re\n",
    "import nltk\n",
    "nltk.download('punkt')\n",
    "nltk.download('stopwords')\n",
    "from nltk.tokenize import word_tokenize\n",
    "from nltk.corpus import stopwords"
   ]
  },
  {
   "cell_type": "code",
   "execution_count": 10,
   "metadata": {},
   "outputs": [],
   "source": [
    "def clean_text(t):\n",
    "    t  = \"\".join([char for char in t if char not in string.punctuation])\n",
    "    t = re.sub('[0-9]+', '', t)\n",
    "    \n",
    "    t = t.lower() # lowercase\n",
    "    \n",
    "    t = t.replace(r\"\\#\",\"\",True) # replaces hashtags\n",
    "    t = t.replace(r\"http\\S+\",\"URL\", True )  # remove URL addresses\n",
    "    t = t.replace(r\"@\",\"\",  True )\n",
    "    t = t.replace(\"\\s{2,}\", \" \", True ) # remove multiple contiguous spaces\n",
    "    return t\n"
   ]
  },
  {
   "cell_type": "code",
   "execution_count": 12,
   "metadata": {},
   "outputs": [],
   "source": [
    "df_train['text'] = df_train['text'].apply(lambda t: clean_text(t))\n",
    "df_test['text'] = df_test['text'].apply(lambda t: clean_text(t))\n",
    " \n",
    "#df_train_clean.head()"
   ]
  },
  {
   "cell_type": "markdown",
   "metadata": {},
   "source": [
    "### Model Architecture\n",
    "#### LTSM and Gated Recurrent Unit\n",
    "\n",
    "In this lesson we will use LTSM and  Gradient Recurrent Units to train models. Both LTSM and GRU are types of RRN's. We will start by downloading and using some pre made embedings then train models on top of the embedings. These embeddings have had a hight amount of training behind them already, training on a scale that I couldn't acheive on my own. So this gives us a headstart for training our models."
   ]
  },
  {
   "cell_type": "code",
   "execution_count": 13,
   "metadata": {},
   "outputs": [
    {
     "name": "stderr",
     "output_type": "stream",
     "text": [
      "2024-03-08 17:27:21.827539: I external/local_tsl/tsl/cuda/cudart_stub.cc:31] Could not find cuda drivers on your machine, GPU will not be used.\n",
      "2024-03-08 17:27:22.307256: E external/local_xla/xla/stream_executor/cuda/cuda_dnn.cc:9261] Unable to register cuDNN factory: Attempting to register factory for plugin cuDNN when one has already been registered\n",
      "2024-03-08 17:27:22.307408: E external/local_xla/xla/stream_executor/cuda/cuda_fft.cc:607] Unable to register cuFFT factory: Attempting to register factory for plugin cuFFT when one has already been registered\n",
      "2024-03-08 17:27:22.372958: E external/local_xla/xla/stream_executor/cuda/cuda_blas.cc:1515] Unable to register cuBLAS factory: Attempting to register factory for plugin cuBLAS when one has already been registered\n",
      "2024-03-08 17:27:22.541057: I external/local_tsl/tsl/cuda/cudart_stub.cc:31] Could not find cuda drivers on your machine, GPU will not be used.\n",
      "2024-03-08 17:27:22.549496: I tensorflow/core/platform/cpu_feature_guard.cc:182] This TensorFlow binary is optimized to use available CPU instructions in performance-critical operations.\n",
      "To enable the following instructions: AVX2 FMA, in other operations, rebuild TensorFlow with the appropriate compiler flags.\n",
      "2024-03-08 17:27:24.826278: W tensorflow/compiler/tf2tensorrt/utils/py_utils.cc:38] TF-TRT Warning: Could not find TensorRT\n"
     ]
    }
   ],
   "source": [
    "import tensorflow as tf\n",
    "import tensorflow_hub as hub\n",
    "import tensorflow_text \n",
    "from tensorflow.keras.preprocessing import text, sequence \n",
    "from tensorflow.keras.layers import Dropout\n",
    "from tensorflow.keras.metrics import Recall\n",
    "from tensorflow.keras.models import Sequential\n",
    "from tensorflow.keras.layers import LSTM, GRU, Bidirectional, Dense, Embedding, Dropout\n",
    "from tensorflow.keras.layers import TextVectorization\n",
    "from keras.callbacks import EarlyStopping, ReduceLROnPlateau\n",
    " \n",
    "from sklearn.model_selection import train_test_split\n",
    "from sklearn.utils.class_weight import compute_class_weight"
   ]
  },
  {
   "cell_type": "code",
   "execution_count": 14,
   "metadata": {},
   "outputs": [],
   "source": [
    "xtrain, xtest, ytrain, ytest = train_test_split(\n",
    "    df_train['text'].values,\n",
    "    df_train['target'].values,\n",
    "    shuffle=True,\n",
    "    test_size=0.2)"
   ]
  },
  {
   "cell_type": "code",
   "execution_count": 15,
   "metadata": {},
   "outputs": [],
   "source": [
    "max_text_len = max(df_train['text'].apply(lambda x: len(x.split())).values) # we know this from the EDA\n",
    "max_words = 50000\n",
    "tokenizer = text.Tokenizer(num_words = max_words)\n",
    "\n",
    "tokenizer.fit_on_texts(xtrain) #fit tokens on training data\n",
    "\n",
    "xtrain_seq = tokenizer.texts_to_sequences(xtrain)\n",
    "xtest_seq = tokenizer.texts_to_sequences(xtest)"
   ]
  },
  {
   "cell_type": "code",
   "execution_count": 16,
   "metadata": {},
   "outputs": [
    {
     "name": "stdout",
     "output_type": "stream",
     "text": [
      "text example: the hobbit the desolation of smaug  ed sheeran i see fire hd httptcooxrwrjzmnu\n",
      "sequence of indices(before padding): [1, 1415, 1, 487, 5, 1217, 2902, 3761, 7, 114, 40, 2347, 5707]\n",
      "sequence of indices(after padding): [   0    0    0    0    0    0    0    0    0    0    0    0    0    0\n",
      "    0    0    0    0    1 1415    1  487    5 1217 2902 3761    7  114\n",
      "   40 2347 5707]\n"
     ]
    }
   ],
   "source": [
    "xtrain_pad = sequence.pad_sequences(xtrain_seq, maxlen=max_text_len)\n",
    "xtest_pad = sequence.pad_sequences(xtest_seq, maxlen=max_text_len)\n",
    "word_index = tokenizer.word_index\n",
    " \n",
    "print('text example:', xtrain[0])\n",
    "print('sequence of indices(before padding):', xtrain_seq[0])\n",
    "print('sequence of indices(after padding):', xtrain_pad[0])"
   ]
  },
  {
   "cell_type": "code",
   "execution_count": null,
   "metadata": {},
   "outputs": [],
   "source": [
    "#Run on first time only\n",
    "\n",
    "#https://nlp.stanford.edu/projects/glove/\n",
    "#!wget https://nlp.stanford.edu/data/glove.6B.zip\n",
    "#!unzip g*zip"
   ]
  },
  {
   "cell_type": "code",
   "execution_count": 18,
   "metadata": {},
   "outputs": [
    {
     "name": "stdout",
     "output_type": "stream",
     "text": [
      "Size of vocabulary in GloVe: 400000\n",
      "CPU times: user 19.9 s, sys: 6.31 s, total: 26.2 s\n",
      "Wall time: 26.2 s\n"
     ]
    }
   ],
   "source": [
    "%%time\n",
    "embedding_vectors = {}\n",
    "with open('glove.6B.300d.txt','r',encoding='utf-8') as file: #glove.42B.300d.txt\n",
    "    for row in file:\n",
    "        values = row.split(' ')\n",
    "        word = values[0]\n",
    "        weights = np.asarray([float(val) for val in values[1:]])\n",
    "        embedding_vectors[word] = weights\n",
    "print(f\"Size of vocabulary in GloVe: {len(embedding_vectors)}\")"
   ]
  },
  {
   "cell_type": "code",
   "execution_count": 19,
   "metadata": {},
   "outputs": [
    {
     "name": "stdout",
     "output_type": "stream",
     "text": [
      "Some out of valubulary words: ['\\x89û', '\\x89ûò', 're\\x89û', 'yearold', 'typhoondevastated']\n",
      "8059 out of 50000 words were OOV.\n"
     ]
    }
   ],
   "source": [
    "emb_dim = 300\n",
    "vocab_len = max_words if max_words is not None else len(word_index)+1\n",
    "embedding_matrix = np.zeros((vocab_len, emb_dim))\n",
    "oov_count = 0\n",
    "oov_words = []\n",
    "for word, idx in word_index.items():\n",
    "    if idx < vocab_len:\n",
    "        embedding_vector = embedding_vectors.get(word)\n",
    "        if embedding_vector is not None:\n",
    "            embedding_matrix[idx] = embedding_vector\n",
    "        else:\n",
    "            oov_count += 1\n",
    "            oov_words.append(word)\n",
    "#print some of the out of vocabulary words\n",
    "print(f'Some out of valubulary words: {oov_words[0:5]}')\n",
    "print(f'{oov_count} out of {vocab_len} words were OOV.')"
   ]
  },
  {
   "cell_type": "code",
   "execution_count": 20,
   "metadata": {},
   "outputs": [],
   "source": [
    "earlystopper = EarlyStopping(monitor='val_loss', patience=2, verbose=1, restore_best_weights=True)\n",
    "reducel = ReduceLROnPlateau(monitor='val_loss', patience=1, verbose=1, factor=0.1)\n",
    "                              \n",
    "                              \n",
    "callbacks_list = [reducel, earlystopper]"
   ]
  },
  {
   "cell_type": "code",
   "execution_count": 21,
   "metadata": {},
   "outputs": [],
   "source": [
    "def plot_model_acc(model_history):\n",
    "    acc = model_history.history['accuracy']\n",
    "    val_acc = model_history.history['val_accuracy']\n",
    "    loss = model_history.history['loss']\n",
    "    val_loss = model_history.history['val_loss']\n",
    "\n",
    "    epochs = range(1, len(acc) + 1)\n",
    "\n",
    "    plt.plot(epochs, acc, 'bo', label='Training Accuracy')\n",
    "    plt.plot(epochs, val_acc, 'b', label='Validation Accuracy')\n",
    "    plt.title('Training and Validation Accuracy')\n",
    "    plt.legend()\n",
    "    plt.figure()\n",
    "\n",
    "    plt.plot(epochs, loss, 'bo', label='Training loss')\n",
    "    plt.plot(epochs, val_loss, 'b', label='Validation loss')\n",
    "    plt.title('Training and Validation loss')\n",
    "    plt.legend()\n",
    "    plt.figure()"
   ]
  },
  {
   "cell_type": "markdown",
   "metadata": {},
   "source": [
    "After seting up some general model stuructre above I create and train an LSTM model."
   ]
  },
  {
   "cell_type": "code",
   "execution_count": 22,
   "metadata": {},
   "outputs": [
    {
     "name": "stderr",
     "output_type": "stream",
     "text": [
      "2024-03-08 17:28:53.217237: W external/local_tsl/tsl/framework/cpu_allocator_impl.cc:83] Allocation of 60000000 exceeds 10% of free system memory.\n",
      "2024-03-08 17:28:53.263367: W external/local_tsl/tsl/framework/cpu_allocator_impl.cc:83] Allocation of 60000000 exceeds 10% of free system memory.\n",
      "2024-03-08 17:28:53.314626: W external/local_tsl/tsl/framework/cpu_allocator_impl.cc:83] Allocation of 60000000 exceeds 10% of free system memory.\n",
      "2024-03-08 17:28:53.659213: W external/local_tsl/tsl/framework/cpu_allocator_impl.cc:83] Allocation of 60000000 exceeds 10% of free system memory.\n"
     ]
    },
    {
     "name": "stdout",
     "output_type": "stream",
     "text": [
      "Model: \"model_lstm\"\n",
      "_________________________________________________________________\n",
      " Layer (type)                Output Shape              Param #   \n",
      "=================================================================\n",
      " embedding (Embedding)       (None, None, 300)         15000000  \n",
      "                                                                 \n",
      " lstm (LSTM)                 (None, 64)                93440     \n",
      "                                                                 \n",
      " dense (Dense)               (None, 128)               8320      \n",
      "                                                                 \n",
      " batch_normalization (Batch  (None, 128)               512       \n",
      " Normalization)                                                  \n",
      "                                                                 \n",
      " dropout (Dropout)           (None, 128)               0         \n",
      "                                                                 \n",
      " dense_1 (Dense)             (None, 256)               33024     \n",
      "                                                                 \n",
      " dense_2 (Dense)             (None, 128)               32896     \n",
      "                                                                 \n",
      " dense_3 (Dense)             (None, 64)                8256      \n",
      "                                                                 \n",
      " dense_4 (Dense)             (None, 1)                 65        \n",
      "                                                                 \n",
      "=================================================================\n",
      "Total params: 15176513 (57.89 MB)\n",
      "Trainable params: 176257 (688.50 KB)\n",
      "Non-trainable params: 15000256 (57.22 MB)\n",
      "_________________________________________________________________\n"
     ]
    }
   ],
   "source": [
    "model_lstm = Sequential(name='model_lstm')\n",
    "model_lstm.add(Embedding(vocab_len, emb_dim, trainable = False, weights=[embedding_matrix]))\n",
    "#model_lstm.add(Embedding(vocab_len, emb_dim, trainable = True))\n",
    "model_lstm.add(LSTM(64, activation='tanh', return_sequences=False))\n",
    "model_lstm.add(Dense(128, activation='relu'))\n",
    "model_lstm.add(tf.keras.layers.BatchNormalization())\n",
    "model_lstm.add(Dropout(0.2)) # Adding Dropout layer with rate of 0.2\n",
    "model_lstm.add(Dense(256, activation='relu'))\n",
    "model_lstm.add(Dense(128, activation='relu'))\n",
    "model_lstm.add(Dense(64, activation='relu'))\n",
    "model_lstm.add(Dense(1, activation='sigmoid'))\n",
    "model_lstm.compile(loss='binary_crossentropy', optimizer='adam', metrics=['accuracy',tf.keras.metrics.Recall(), tf.keras.metrics.AUC()])\n",
    "model_lstm.summary()"
   ]
  },
  {
   "cell_type": "code",
   "execution_count": 23,
   "metadata": {},
   "outputs": [
    {
     "name": "stdout",
     "output_type": "stream",
     "text": [
      "Epoch 1/20\n",
      "190/191 [============================>.] - ETA: 0s - loss: 0.5000 - accuracy: 0.7630 - recall: 0.6338 - auc: 0.8229"
     ]
    },
    {
     "name": "stderr",
     "output_type": "stream",
     "text": [
      "2024-03-08 17:29:03.341443: W external/local_tsl/tsl/framework/cpu_allocator_impl.cc:83] Allocation of 60000000 exceeds 10% of free system memory.\n"
     ]
    },
    {
     "name": "stdout",
     "output_type": "stream",
     "text": [
      "191/191 [==============================] - 9s 33ms/step - loss: 0.4998 - accuracy: 0.7631 - recall: 0.6343 - auc: 0.8232 - val_loss: 0.5439 - val_accuracy: 0.7774 - val_recall: 0.8441 - val_auc: 0.8747 - lr: 0.0010\n",
      "Epoch 2/20\n",
      "191/191 [==============================] - 6s 29ms/step - loss: 0.4247 - accuracy: 0.8138 - recall: 0.7018 - auc: 0.8739 - val_loss: 0.5053 - val_accuracy: 0.7971 - val_recall: 0.5764 - val_auc: 0.8629 - lr: 0.0010\n",
      "Epoch 3/20\n",
      "191/191 [==============================] - 5s 27ms/step - loss: 0.3908 - accuracy: 0.8281 - recall: 0.7238 - auc: 0.8955 - val_loss: 0.4382 - val_accuracy: 0.8037 - val_recall: 0.6252 - val_auc: 0.8700 - lr: 0.0010\n",
      "Epoch 4/20\n",
      "191/191 [==============================] - ETA: 0s - loss: 0.3517 - accuracy: 0.8491 - recall: 0.7568 - auc: 0.9143\n",
      "Epoch 4: ReduceLROnPlateau reducing learning rate to 0.00010000000474974513.\n",
      "191/191 [==============================] - 5s 25ms/step - loss: 0.3517 - accuracy: 0.8491 - recall: 0.7568 - auc: 0.9143 - val_loss: 0.4641 - val_accuracy: 0.7951 - val_recall: 0.7118 - val_auc: 0.8495 - lr: 0.0010\n",
      "Epoch 5/20\n",
      "189/191 [============================>.] - ETA: 0s - loss: 0.2832 - accuracy: 0.8795 - recall: 0.7951 - auc: 0.9474\n",
      "Epoch 5: ReduceLROnPlateau reducing learning rate to 1.0000000474974514e-05.\n",
      "Restoring model weights from the end of the best epoch: 3.\n",
      "191/191 [==============================] - 5s 26ms/step - loss: 0.2829 - accuracy: 0.8795 - recall: 0.7951 - auc: 0.9475 - val_loss: 0.4974 - val_accuracy: 0.7892 - val_recall: 0.7339 - val_auc: 0.8490 - lr: 1.0000e-04\n",
      "Epoch 5: early stopping\n",
      "CPU times: user 1min 22s, sys: 32 s, total: 1min 54s\n",
      "Wall time: 29.9 s\n"
     ]
    }
   ],
   "source": [
    "%%time\n",
    "batch_size = 32\n",
    "epochs  = 20\n",
    "history_lstm = model_lstm.fit(xtrain_pad,\n",
    "    np.asarray(ytrain),\n",
    "    validation_data=(xtest_pad, np.asarray(ytest)),\n",
    "    batch_size = batch_size,\n",
    "    epochs = epochs,\n",
    "    callbacks = callbacks_list)"
   ]
  },
  {
   "cell_type": "code",
   "execution_count": 24,
   "metadata": {},
   "outputs": [
    {
     "data": {
      "image/png": "[encoded data removed]",
      "text/plain": [
       "<Figure size 432x288 with 1 Axes>"
      ]
     },
     "metadata": {
      "needs_background": "light"
     },
     "output_type": "display_data"
    },
    {
     "data": {
      "image/png": "[encoded data removed]",
      "text/plain": [
       "<Figure size 432x288 with 1 Axes>"
      ]
     },
     "metadata": {
      "needs_background": "light"
     },
     "output_type": "display_data"
    },
    {
     "data": {
      "text/plain": [
       "<Figure size 432x288 with 0 Axes>"
      ]
     },
     "metadata": {},
     "output_type": "display_data"
    }
   ],
   "source": [
    "plot_model_acc(history_lstm)"
   ]
  },
  {
   "cell_type": "markdown",
   "metadata": {},
   "source": [
    "Here we see that the preformance of the LTSM is not great. I played arround with many differnet setting and optimisers but this was the best performance I was able to acheive with the LSTM."
   ]
  },
  {
   "cell_type": "markdown",
   "metadata": {},
   "source": [
    "I am now going to use the slightly different archtechure of GRU's to hopefully have better preformance."
   ]
  },
  {
   "cell_type": "code",
   "execution_count": 25,
   "metadata": {},
   "outputs": [
    {
     "name": "stdout",
     "output_type": "stream",
     "text": [
      "Model: \"model_gru\"\n",
      "_________________________________________________________________\n",
      " Layer (type)                Output Shape              Param #   \n",
      "=================================================================\n",
      " embedding_1 (Embedding)     (None, None, 300)         15000000  \n",
      "                                                                 \n",
      " gru (GRU)                   (None, 128)               165120    \n",
      "                                                                 \n",
      " dropout_1 (Dropout)         (None, 128)               0         \n",
      "                                                                 \n",
      " dense_5 (Dense)             (None, 1)                 129       \n",
      "                                                                 \n",
      "=================================================================\n",
      "Total params: 15165249 (57.85 MB)\n",
      "Trainable params: 165249 (645.50 KB)\n",
      "Non-trainable params: 15000000 (57.22 MB)\n",
      "_________________________________________________________________\n"
     ]
    }
   ],
   "source": [
    "emb_dim = embedding_matrix.shape[1]\n",
    "model_gru = Sequential(name='model_gru')\n",
    "model_gru.add(Embedding(vocab_len, emb_dim, trainable = False, weights=[embedding_matrix]))\n",
    "model_gru.add(GRU(128, return_sequences=False))\n",
    "model_gru.add(Dropout(0.5))\n",
    "model_gru.add(Dense(1, activation = 'sigmoid'))\n",
    "model_gru.compile(loss='binary_crossentropy', optimizer='adam', metrics=['accuracy'])\n",
    "model_gru.summary()"
   ]
  },
  {
   "cell_type": "code",
   "execution_count": 26,
   "metadata": {},
   "outputs": [
    {
     "name": "stdout",
     "output_type": "stream",
     "text": [
      "Epoch 1/20\n",
      "191/191 [==============================] - 9s 39ms/step - loss: 0.4933 - accuracy: 0.7637 - val_loss: 0.4226 - val_accuracy: 0.8122 - lr: 0.0010\n",
      "Epoch 2/20\n",
      "191/191 [==============================] - ETA: 0s - loss: 0.4206 - accuracy: 0.8215\n",
      "Epoch 2: ReduceLROnPlateau reducing learning rate to 0.00010000000474974513.\n",
      "191/191 [==============================] - 7s 35ms/step - loss: 0.4206 - accuracy: 0.8215 - val_loss: 0.4307 - val_accuracy: 0.8096 - lr: 0.0010\n",
      "Epoch 3/20\n",
      "191/191 [==============================] - 7s 35ms/step - loss: 0.3754 - accuracy: 0.8438 - val_loss: 0.4090 - val_accuracy: 0.8155 - lr: 1.0000e-04\n",
      "Epoch 4/20\n",
      "191/191 [==============================] - ETA: 0s - loss: 0.3639 - accuracy: 0.8463\n",
      "Epoch 4: ReduceLROnPlateau reducing learning rate to 1.0000000474974514e-05.\n",
      "191/191 [==============================] - 7s 35ms/step - loss: 0.3639 - accuracy: 0.8463 - val_loss: 0.4111 - val_accuracy: 0.8168 - lr: 1.0000e-04\n",
      "Epoch 5/20\n",
      "191/191 [==============================] - ETA: 0s - loss: 0.3565 - accuracy: 0.8502\n",
      "Epoch 5: ReduceLROnPlateau reducing learning rate to 1.0000000656873453e-06.\n",
      "Restoring model weights from the end of the best epoch: 3.\n",
      "191/191 [==============================] - 7s 35ms/step - loss: 0.3565 - accuracy: 0.8502 - val_loss: 0.4095 - val_accuracy: 0.8181 - lr: 1.0000e-05\n",
      "Epoch 5: early stopping\n"
     ]
    },
    {
     "data": {
      "image/png": "[encoded data removed]",
      "text/plain": [
       "<Figure size 432x288 with 1 Axes>"
      ]
     },
     "metadata": {
      "needs_background": "light"
     },
     "output_type": "display_data"
    },
    {
     "data": {
      "image/png": "[encoded data removed]",
      "text/plain": [
       "<Figure size 432x288 with 1 Axes>"
      ]
     },
     "metadata": {
      "needs_background": "light"
     },
     "output_type": "display_data"
    },
    {
     "data": {
      "text/plain": [
       "<Figure size 432x288 with 0 Axes>"
      ]
     },
     "metadata": {},
     "output_type": "display_data"
    }
   ],
   "source": [
    "batch_size = 32\n",
    "epochs  = 20\n",
    "history_gru = model_gru.fit(xtrain_pad,\n",
    "                         np.asarray(ytrain),\n",
    "                         validation_data=(xtest_pad, np.asarray(ytest)),\n",
    "                         batch_size = batch_size,\n",
    "                         epochs = epochs,\n",
    "                         callbacks = callbacks_list)\n",
    "\n",
    "plot_model_acc(history_gru)"
   ]
  },
  {
   "cell_type": "markdown",
   "metadata": {},
   "source": [
    "## Results and Analysis\n",
    "After some tinkering with the setting and number of layers I finaly ended with this model. While this isnt superb performance it is much better than LTSM so this is what I will use for my submission. 81% accuarcy on the validation set is a solid preformance. especially since I am training my a laptop without dedicated graphics. If I had more computational power I would probably look to do more instensive layers and modeling."
   ]
  },
  {
   "cell_type": "markdown",
   "metadata": {},
   "source": [
    "## Conclusion\n",
    "GRU models are better for this dataset than LTSM models. While this should be expected as GRU models have been replacing LTSM models for many NLP problems it is good to see that the results are consistent and work well. In the future I would hope to have a cluster of GPU's that would allow for more layers and epochs to be ran at the same time. This increase in computational power would certainly improve my results. "
   ]
  },
  {
   "cell_type": "markdown",
   "metadata": {},
   "source": [
    "#### Generating submission"
   ]
  },
  {
   "cell_type": "code",
   "execution_count": 33,
   "metadata": {},
   "outputs": [
    {
     "name": "stdout",
     "output_type": "stream",
     "text": [
      "102/102 [==============================] - 1s 11ms/step\n",
      "Index(['keyword', 'location', 'text'], dtype='object')\n"
     ]
    }
   ],
   "source": [
    "X_test= df_test['text'].values\n",
    "X_test_seq = tokenizer.texts_to_sequences(X_test)\n",
    "X_test_pad = sequence.pad_sequences(X_test_seq, maxlen=max_text_len)\n",
    "predictions_prob = model_gru.predict(X_test_pad)\n",
    "predictions = tf.round(predictions_prob)\n",
    "#print(predictions)\n",
    "\n",
    "print(df_test.columns)\n",
    "df_out = pd.DataFrame()\n",
    "df_out.index = df_test.index\n",
    "df_out['target'] = predictions\n",
    "df_out = df_out.astype({\"target\": int})\n",
    "df_out.to_csv('submission.csv')\n"
   ]
  }
 ],
 "metadata": {
  "kernelspec": {
   "display_name": "Python 3",
   "language": "python",
   "name": "python3"
  },
  "language_info": {
   "codemirror_mode": {
    "name": "ipython",
    "version": 3
   },
   "file_extension": ".py",
   "mimetype": "text/x-python",
   "name": "python",
   "nbconvert_exporter": "python",
   "pygments_lexer": "ipython3",
   "version": "3.10.12"
  }
 },
 "nbformat": 4,
 "nbformat_minor": 2
}
